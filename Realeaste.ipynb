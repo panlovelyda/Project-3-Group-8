{
 "cells": [
  {
   "cell_type": "code",
   "execution_count": 11,
   "metadata": {},
   "outputs": [],
   "source": [
    "import requests\n",
    "from lxml import etree\n",
    "import time\n",
    "class Realeaste(object):\n",
    "    def __init__(self):\n",
    "       pass\n",
    "\n",
    "    def main(self):\n",
    "        pass\n",
    "\n",
    "if __name__ == '__main__':\n",
    "    spider= Realeaste()\n",
    "    spider.main()"
   ]
  },
  {
   "cell_type": "code",
   "execution_count": 12,
   "metadata": {},
   "outputs": [],
   "source": [
    "def __init__(self):\n",
    "        self.url = \"https://www.realestate.com.au/sold/in-victoria\"\n",
    "        self.headers = {\n",
    "            \"User-Agent\":\"Mozilla/5.0 (Windows NT 10.0; Win64; x64) AppleWebKit/537.36 (KHTML, like Gecko) Chrome/78.0.3904.108 Safari/537.36\"\n",
    "        }\n",
    "        # Getting data\n",
    "def get_page(self,url):\n",
    "         html = requests.get(url=url,headers=self.headers).content.decode(\"utf-8\")\n",
    "         # print(html)\n",
    "         self.page_page(html)"
   ]
  },
  {
   "cell_type": "code",
   "execution_count": 13,
   "metadata": {},
   "outputs": [],
   "source": [
    "# data analysis\n",
    "def page_page(self,html):\n",
    "    parse_html = etree.HTML(html)\n",
    "    page = parse_html.xpath('//*[@id=\"content\"]/div[1]/div[2]/ul/li')\n",
    "    house_dict = {}\n",
    "    for li in page:\n",
    "      house_dict['Price']=li.xpath('.//div[@class=\"property-info__header\"]//div[@class=\"property-info__middle-content\"]/div[@class=\"property-price property-info__price\"]/span/text()')[0].strip()\n",
    "      house_dict[\"Address\"] = li.xpath(\".//div[@class='property-info__header']/div[@class='property-info__address-actions']/div[@class='property-info-address']/span/text()\")[0].strip()\n",
    "      house_dict[\"Sold On\"] = li.xpath('.//div[@class=\"property-info__header\"]//div[@class=\"property-info__middle-content\"]//text()')[0].strip()"
   ]
  },
  {
   "cell_type": "code",
   "execution_count": 14,
   "metadata": {},
   "outputs": [
    {
     "name": "stdout",
     "output_type": "stream",
     "text": [
      "<_io.TextIOWrapper name='realesate.csv' mode='a' encoding='utf-8'>\n"
     ]
    }
   ],
   "source": [
    "f = open('realesate.csv', 'a', encoding = 'utf-8')  \n",
    "\n",
    "        "
   ]
  }
 ],
 "metadata": {
  "kernelspec": {
   "display_name": "Python 3.9.12 ('base')",
   "language": "python",
   "name": "python3"
  },
  "language_info": {
   "codemirror_mode": {
    "name": "ipython",
    "version": 3
   },
   "file_extension": ".py",
   "mimetype": "text/x-python",
   "name": "python",
   "nbconvert_exporter": "python",
   "pygments_lexer": "ipython3",
   "version": "3.9.12"
  },
  "orig_nbformat": 4,
  "vscode": {
   "interpreter": {
    "hash": "55c71381e32fd971460c3af3b7aa7e5fbdb5dbd4076fc58f49c4639453d5ee83"
   }
  }
 },
 "nbformat": 4,
 "nbformat_minor": 2
}
