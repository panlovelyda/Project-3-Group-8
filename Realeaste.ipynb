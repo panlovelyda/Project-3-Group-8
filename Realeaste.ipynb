{
 "cells": [
  {
   "cell_type": "code",
   "execution_count": 10,
   "metadata": {},
   "outputs": [],
   "source": [
    "from selenium import webdriver\n",
    "from bs4 import BeautifulSoup\n",
    "import pandas as pd\n",
    "from webdriver_manager.chrome import ChromeDriverManager\n",
    "\n"
   ]
  },
  {
   "cell_type": "code",
   "execution_count": 11,
   "metadata": {},
   "outputs": [],
   "source": [
    "prices = []\n",
    "sold_years = []\n",
    "addresses = []"
   ]
  },
  {
   "cell_type": "code",
   "execution_count": 12,
   "metadata": {},
   "outputs": [
    {
     "name": "stderr",
     "output_type": "stream",
     "text": [
      "C:\\Users\\panzh\\AppData\\Local\\Temp\\ipykernel_38024\\2893303508.py:3: DeprecationWarning: executable_path has been deprecated, please pass in a Service object\n",
      "  driver = webdriver.Chrome(ChromeDriverManager().install())\n"
     ]
    }
   ],
   "source": [
    "for page in range(1,50,1):\n",
    "  page_url = \"https://www.domain.com.au/sold-listings/?excludepricewithheld=1&keywords=vic&page=\"+str(page)\n",
    "  driver = webdriver.Chrome(ChromeDriverManager().install())\n",
    "  driver.get (page_url)\n",
    "  content = driver.page_source\n",
    "  soup = BeautifulSoup(content, features='html.parser')\n",
    "  all_items = soup.find_all('li', attrs={'class': 'css-1qp9106'})\n",
    "  \n",
    "\n",
    "  for i in all_items:\n",
    "    price = i.find('p', attrs={'data-testid': 'listing-card-price'})\n",
    "    sold_year = i.find('div', attrs={'data-testid': 'listing-card-tag'})\n",
    "    address = i.find('span', attrs={'data-testid': 'address-line2'})\n",
    "\n",
    "    if price and price.text:\n",
    "        prices.append(price.text)\n",
    "    else:\n",
    "        prices.append('No display data')\n",
    "\n",
    "\n",
    "    if sold_year and sold_year.text:\n",
    "        sold_years.append(sold_year.text)\n",
    "    else:\n",
    "        sold_years.append('No display data')\n",
    "\n",
    "    if address and address.text:\n",
    "        addresses.append(address.text)\n",
    "    else:\n",
    "        addresses.append('No display data')\n"
   ]
  },
  {
   "cell_type": "code",
   "execution_count": 13,
   "metadata": {},
   "outputs": [],
   "source": [
    "df = pd.DataFrame({'Address': addresses, 'Price': prices, 'Sold_Year': sold_years})\n",
    "df.to_csv('listings.csv', index=False, encoding='utf-8')"
   ]
  }
 ],
 "metadata": {
  "kernelspec": {
   "display_name": "Python 3.9.12 ('base')",
   "language": "python",
   "name": "python3"
  },
  "language_info": {
   "codemirror_mode": {
    "name": "ipython",
    "version": 3
   },
   "file_extension": ".py",
   "mimetype": "text/x-python",
   "name": "python",
   "nbconvert_exporter": "python",
   "pygments_lexer": "ipython3",
   "version": "3.9.12"
  },
  "orig_nbformat": 4,
  "vscode": {
   "interpreter": {
    "hash": "55c71381e32fd971460c3af3b7aa7e5fbdb5dbd4076fc58f49c4639453d5ee83"
   }
  }
 },
 "nbformat": 4,
 "nbformat_minor": 2
}
